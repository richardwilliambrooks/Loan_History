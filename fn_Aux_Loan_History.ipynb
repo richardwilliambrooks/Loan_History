{
 "cells": [
  {
   "cell_type": "code",
   "execution_count": null,
   "metadata": {},
   "outputs": [],
   "source": [
    "#-----------------------------------------------------------------------------------------------------------------------------\n",
    "#\n",
    "# Loan Eligibility Classification Model Auxillary Functions\n",
    "#\n",
    "# Auxillary functions used in the Loan Eligibility Evaluation and Modelling\n",
    "# Preperation of data sets used by both functions\n",
    "# Placed in commmon repository"
   ]
  },
  {
   "cell_type": "code",
   "execution_count": null,
   "metadata": {},
   "outputs": [],
   "source": [
    "#-----------------------------------------------------------------------------------------------------------------------------\n",
    "# Rev     By                Description\n",
    "# 1.2    Richard Brooks     Added some common graph plotting functions\n",
    "# 1.1    Richard Brooks     Tidy Up\n",
    "# 1.0    Richard Brooks     Initial Release\n",
    "\n",
    "sScript = 'Loan History Auxillary Functions'\n",
    "sVersion = 'v1.2'\n",
    "sAuthor = 'Richard W Brooks'\n",
    "\n",
    "print ('Running : ' + sScript + ' : ' + sVersion)"
   ]
  },
  {
   "cell_type": "code",
   "execution_count": null,
   "metadata": {},
   "outputs": [],
   "source": [
    "import numpy as np\n",
    "import pandas as pd\n",
    "%matplotlib notebook"
   ]
  },
  {
   "cell_type": "code",
   "execution_count": null,
   "metadata": {},
   "outputs": [],
   "source": [
    "# Preprocessing of raw data\n",
    "\n",
    "def df_PreProcess_Data(df):\n",
    "    \n",
    "    # Defining Variables in a format for evaluation\n",
    "    df['Loan_ID'] = df['Loan_ID'].apply(lambda x:int(re.findall('\\d+', x)[0]))\n",
    "    df['Credit_History'] = df['Credit_History'].apply(lambda x:'Yes' if x > 0 else 'No')\n",
    "    \n",
    "    # Calculating new independant variables that may give better linear dependancies\n",
    "    df['c_JointIncome'] = df.apply(lambda x: x['ApplicantIncome'] + x ['CoapplicantIncome'], axis = 1)\n",
    "    df['c_Loan_per_Month'] = df.apply(lambda x: x['LoanAmount'] / x ['Loan_Amount_Term'], axis = 1) \n",
    "    df['c_Loan_per_AppIncome'] = df.apply(lambda x: x['LoanAmount'] / x['ApplicantIncome'] if x['ApplicantIncome'] >0  else np.nan, axis = 1)\n",
    "    df['c_Loan_per_JointIncome'] = df.apply(lambda x: x['LoanAmount'] / x['c_JointIncome'] if x['c_JointIncome'] >0  else np.nan, axis = 1)"
   ]
  },
  {
   "cell_type": "code",
   "execution_count": null,
   "metadata": {},
   "outputs": [],
   "source": [
    "# Function to concert catagorical fileds to boolean\n",
    "# This finds the unique catagories in a columns\n",
    "# Creates a new column 'Column_Val' and gives a value of 1 for rows that match 0 for other catagories\n",
    "\n",
    "def df_CatCol_to_Boolean(df_i, ls_Col_Cat):\n",
    "    \n",
    "    # Only consider columns within the dataframe\n",
    "    ls_Col = list(set(df_i.columns).intersection(ls_Col_Cat))\n",
    "\n",
    "    df_x = df_i.copy()\n",
    "\n",
    "    for var in ls_Col:\n",
    "        cat_list='var'+'_'+var\n",
    "        cat_list = pd.get_dummies(df_x[var], prefix=var)\n",
    "        \n",
    "        del cat_list[cat_list.columns[0]]\n",
    "        \n",
    "        df_xt = df_x.join(cat_list)\n",
    "        df_x = df_xt\n",
    "        \n",
    "    df_x = df_x._get_numeric_data()\n",
    "    \n",
    "    return df_x"
   ]
  },
  {
   "cell_type": "code",
   "execution_count": null,
   "metadata": {},
   "outputs": [],
   "source": [
    "# Function to process the data for model evaluation and running\n",
    "# This convert catagorical data to columns with Column_Value - 0 / 1\n",
    "# Normalised the data by scaling to min and max\n",
    "# The result is independant data fields are all values between 0 and 1 for model evaluation\n",
    "\n",
    "def df_Prep_Data(df, ls_Col_Cat):\n",
    "    \n",
    "    df_data = df.copy()\n",
    "            \n",
    "    df_data_p = df_CatCol_to_Boolean(df_data,ls_Col_Cat)\n",
    "    d = MinMaxScaler().fit_transform(df_data_p)\n",
    "    df_data_p = pd.DataFrame(d, columns = df_data_p.columns)\n",
    "    \n",
    "    return df_data_p"
   ]
  },
  {
   "cell_type": "code",
   "execution_count": null,
   "metadata": {},
   "outputs": [],
   "source": [
    "# Function to fill Null Values\n",
    "# The NA values are filled only for columns in a list\n",
    "# The data is the most common if it is a catagorical variable and mean for numerical data\n",
    "# The rows are deleted for any remaining NA enteries - rows with NA in columns excluding those specified\n",
    "\n",
    "def df_FillNA_Data(df, ls_Col_Sub, ls_Col_Fill_NA, ls_Col_Cat):\n",
    "    \n",
    "    df = df[ls_Col_Sub].copy()\n",
    "    \n",
    "    # Only consider columns within the dataframe\n",
    "    ls_Col = list(set(ls_Col_Fill_NA).intersection(ls_Col_Sub))\n",
    "    \n",
    "    # Fill NA with most common for catagory varaibles else average \n",
    "    for sCol in ls_Col:   \n",
    "        if sCol in ls_Col_Cat:\n",
    "            Val = df[sCol].mode()[0]\n",
    "            df[sCol].fillna(str(Val), inplace = True) \n",
    "        else:\n",
    "            Val = df[sCol].mean()\n",
    "            df[sCol].fillna(Val, inplace = True) \n",
    "    \n",
    "    df.dropna(inplace = True)\n",
    "    \n",
    "    return df"
   ]
  },
  {
   "cell_type": "code",
   "execution_count": null,
   "metadata": {},
   "outputs": [],
   "source": [
    "# Function to create correlation heat map from dataframe\n",
    "\n",
    "def fn_plt_correlation_heat_map(df, sTitle):\n",
    "    df_corr = df.corr()\n",
    "    matrix = np.triu(df_corr)\n",
    "\n",
    "    plt.figure()\n",
    "    chart = sns.heatmap(df_corr,mask = matrix,vmin=-.25,vmax=.25,cmap='coolwarm',annot=True, fmt='.2f', center= 0, linewidths=2, linecolor='black')\n",
    "    chart.set_xticklabels(chart.get_xticklabels(), rotation=30, horizontalalignment='right')\n",
    "    b, t = plt.ylim() # discover the values for bottom and top\n",
    "    b += 0.5 # Add 0.5 to the bottom\n",
    "    t -= 0.5 # Subtract 0.5 from the top\n",
    "    plt.ylim(b, t) # update the ylim(bottom, top) values\n",
    "    \n",
    "    plt.title(sTitle)\n",
    "    plt.tight_layout()"
   ]
  },
  {
   "cell_type": "code",
   "execution_count": null,
   "metadata": {},
   "outputs": [],
   "source": [
    "# Function to create mean values by output column\n",
    "# So can comapre the strength of each variable\n",
    "\n",
    "def fn_plt_bar_ratio(df,ls_Col_Out,sTitle):\n",
    "    df_data_p_m = df.groupby(ls_Col_Out).mean().T\n",
    "    ls = df_data_p_m.columns\n",
    "    df_data_p_m['Ratio'] = df_data_p_m[ls[1]] / df_data_p_m[ls[0]]\n",
    "    #df_data_p_m.sort_values(by=['Ratio'], inplace=True)\n",
    "    \n",
    "    df_data_p_m.plot(y=ls, kind=\"bar\")\n",
    "    \n",
    "    plt.title(sTitle)\n",
    "    plt.tight_layout()"
   ]
  },
  {
   "cell_type": "code",
   "execution_count": null,
   "metadata": {},
   "outputs": [],
   "source": [
    "# -------------------------------------------------------------------------------------------------------------------------\n",
    "# End of Script\n",
    "# -------------------------------------------------------------------------------------------------------------------------"
   ]
  }
 ],
 "metadata": {
  "kernelspec": {
   "display_name": "Python 3",
   "language": "python",
   "name": "python3"
  },
  "language_info": {
   "codemirror_mode": {
    "name": "ipython",
    "version": 3
   },
   "file_extension": ".py",
   "mimetype": "text/x-python",
   "name": "python",
   "nbconvert_exporter": "python",
   "pygments_lexer": "ipython3",
   "version": "3.7.6"
  }
 },
 "nbformat": 4,
 "nbformat_minor": 2
}
