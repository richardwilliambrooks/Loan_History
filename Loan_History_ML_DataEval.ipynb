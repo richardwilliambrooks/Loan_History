{
 "cells": [
  {
   "cell_type": "code",
   "execution_count": null,
   "metadata": {},
   "outputs": [],
   "source": [
    "#-----------------------------------------------------------------------------------------------------------------------------\n",
    "#\n",
    "# Loan Eligibility Data Evaluation\n",
    "#\n",
    "# The script analyses the data relating to an applicant is eligible for a loan.\n",
    "# This based on a number of catagorical and continous data fields\n",
    "\n",
    "# The intention is to understand and plot the data, values, completeness and correlations\n",
    "# This is with a view to defining the type of model used and key indicators to consider in model design\n",
    "\n",
    "# The final result is a Main Summary of the Data Considering \n",
    "# ... Fraction of Null Values\n",
    "# ... Ratio of Accepted to Refused Customers\n",
    "# ... (Raw Singular) Correlation of the Output to Field\n",
    "# ... The Mean of Data for Approved Clients\n",
    "# ... The Mean and Standard Deviation\n",
    "\n",
    "# NOTE : This file has not been sufficiently commented\n",
    "#-----------------------------------------------------------------------------------------------------------------------------"
   ]
  },
  {
   "cell_type": "code",
   "execution_count": null,
   "metadata": {},
   "outputs": [],
   "source": [
    "#-----------------------------------------------------------------------------------------------------------------------------\n",
    "# Rev     By                Description\n",
    "# 1.0    Richard Brooks     Initial Release\n",
    "\n",
    "sScript = 'Loan History Data Evaluation'\n",
    "sVersion = 'v1.0'\n",
    "sAuthor = 'Richard W Brooks'\n",
    "\n",
    "print ('Running : ' + sScript + ' : ' + sVersion)"
   ]
  },
  {
   "cell_type": "code",
   "execution_count": null,
   "metadata": {},
   "outputs": [],
   "source": [
    "import numpy as np\n",
    "import pandas as pd\n",
    "import matplotlib.pyplot as plt\n",
    "import seaborn as sns\n",
    "from sklearn.preprocessing import MinMaxScaler\n",
    "import re"
   ]
  },
  {
   "cell_type": "code",
   "execution_count": null,
   "metadata": {},
   "outputs": [],
   "source": [
    "run fn_Aux_Loan_History.ipynb"
   ]
  },
  {
   "cell_type": "code",
   "execution_count": null,
   "metadata": {},
   "outputs": [],
   "source": [
    "# Load the data\n",
    "df_test = pd.read_csv('test_Y3wMUE5_7gLdaTN.csv')\n",
    "df_train = pd.read_csv('train_u6lujuX_CVtuZ9i.csv')"
   ]
  },
  {
   "cell_type": "code",
   "execution_count": null,
   "metadata": {},
   "outputs": [],
   "source": [
    "# Check the data\n",
    "df_train.head(n=5)"
   ]
  },
  {
   "cell_type": "code",
   "execution_count": null,
   "metadata": {},
   "outputs": [],
   "source": [
    "# And The Types\n",
    "df_train.dtypes"
   ]
  },
  {
   "cell_type": "code",
   "execution_count": null,
   "metadata": {},
   "outputs": [],
   "source": [
    "# -------------------------------------------------------------------------------\n",
    "# Analysis of the data\n",
    "# -------------------------------------------------------------------------------"
   ]
  },
  {
   "cell_type": "code",
   "execution_count": null,
   "metadata": {},
   "outputs": [],
   "source": [
    "# Set the data set to analyse\n",
    "df_data = df_train.copy()\n",
    "df_data.dtypes"
   ]
  },
  {
   "cell_type": "code",
   "execution_count": null,
   "metadata": {},
   "outputs": [],
   "source": [
    "# -------------------------------------------------------------------------------\n",
    "# Translate the Data\n",
    "# -------------------------------------------------------------------------------"
   ]
  },
  {
   "cell_type": "code",
   "execution_count": null,
   "metadata": {},
   "outputs": [],
   "source": [
    "# Translate the Output to Boolean\n",
    "df_data['Loan_Status'] = (df_data['Loan_Status']=='Y').astype(int)\n",
    "\n",
    "# Change the format of fields and create calculated parameters for inputs\n",
    "df_PreProcess_Data(df_data)"
   ]
  },
  {
   "cell_type": "code",
   "execution_count": null,
   "metadata": {},
   "outputs": [],
   "source": [
    "# Split The Data\n",
    "ls_Col_Out = ['Loan_Status']\n",
    "ls_Col_Cat = ['Dependents','Education', 'Property_Area','Gender','Married','Self_Employed', 'Credit_History']\n",
    "#ls_Col_Bool = ['Credit_History']\n",
    "ls_Col_Val = ['ApplicantIncome', 'CoapplicantIncome', \n",
    "            'LoanAmount', 'Loan_Amount_Term','Loan_ID']\n",
    "ls_Col_Val = list(set(df_data.columns) - (set(ls_Col_Cat + ls_Col_Out)))"
   ]
  },
  {
   "cell_type": "code",
   "execution_count": null,
   "metadata": {},
   "outputs": [],
   "source": [
    "sCol_Out = ls_Col_Out[0]\n",
    "df_data[sCol_Out].value_counts()/len(df_data)"
   ]
  },
  {
   "cell_type": "code",
   "execution_count": null,
   "metadata": {},
   "outputs": [],
   "source": [
    "# Investigation of NULL values and fraction approved\n",
    "\n",
    "#Calculate percentage of total NULL values - with and without approval\n",
    "ls_df = []\n",
    "ls_Val = df_data[sCol_Out].unique()\n",
    "iRow = df_data.shape[0]\n",
    "\n",
    "for sVal in ls_Val:\n",
    "    df_sub = df_data[df_data[sCol_Out]==sVal].isna().sum()/iRow\n",
    "    ls_df.append(df_sub)\n",
    "    \n",
    "df_data_ns = pd.concat(ls_df,axis = 1)\n",
    "df_data_ns['Total'] = df_data_ns.sum(axis=1)\n",
    "df_data_ns.sort_values(by=['Total'], inplace=True)\n",
    "df_data_ns"
   ]
  },
  {
   "cell_type": "code",
   "execution_count": null,
   "metadata": {},
   "outputs": [],
   "source": [
    "plt.figure()\n",
    "df_data_ns[ls_Val].plot.bar(stacked = True)\n",
    "plt.tight_layout()"
   ]
  },
  {
   "cell_type": "code",
   "execution_count": null,
   "metadata": {},
   "outputs": [],
   "source": [
    "ls_Col_Null = df_data_ns[df_data_ns['Total']>0].index"
   ]
  },
  {
   "cell_type": "code",
   "execution_count": null,
   "metadata": {},
   "outputs": [],
   "source": [
    "# Look for combinations of nulls\n",
    "\n",
    "df_data['Null_Col'] = df_data.isnull().sum(axis=1)\n",
    "df_data.sort_values(by=['Null_Col'], inplace=True)\n",
    "df_data.reset_index(drop=True, inplace=True)\n",
    "\n",
    "df_data_nl = df_data[ls_Col_Null][df_data['Null_Col']>0]\n",
    "\n",
    "sns.heatmap(df_data_nl.isnull())"
   ]
  },
  {
   "cell_type": "code",
   "execution_count": null,
   "metadata": {},
   "outputs": [],
   "source": [
    "df_data_nl.isnull().sum()"
   ]
  },
  {
   "cell_type": "code",
   "execution_count": null,
   "metadata": {},
   "outputs": [],
   "source": [
    "# Look at numerical value spread"
   ]
  },
  {
   "cell_type": "code",
   "execution_count": null,
   "metadata": {},
   "outputs": [],
   "source": [
    "# Look at catagorical data\n",
    "#for sCat in ls_Col_Cat:\n",
    "#    print(df_data[sCat].value_counts()/len(df_data))\n",
    "#    print()"
   ]
  },
  {
   "cell_type": "code",
   "execution_count": null,
   "metadata": {},
   "outputs": [],
   "source": [
    "df_data_p = df_Prep_Data(df_data,ls_Col_Cat)\n",
    "df_data_p.columns"
   ]
  },
  {
   "cell_type": "code",
   "execution_count": null,
   "metadata": {},
   "outputs": [],
   "source": [
    "df_data_p_m = df_data_p.groupby(ls_Col_Out).mean().T\n",
    "\n",
    "ls = df_data_p_m.columns\n",
    "\n",
    "df_data_p_m['Ratio'] = df_data_p_m[ls[1]] / df_data_p_m[ls[0]]\n",
    "\n",
    "df_data_p_m.sort_values(by=['Ratio'], inplace=True)"
   ]
  },
  {
   "cell_type": "code",
   "execution_count": null,
   "metadata": {},
   "outputs": [],
   "source": [
    "df_data_p_m.plot(y=ls, kind=\"bar\")\n",
    "plt.tight_layout()"
   ]
  },
  {
   "cell_type": "code",
   "execution_count": null,
   "metadata": {},
   "outputs": [],
   "source": [
    "df_data_p_m.plot(y=\"Ratio\", kind=\"bar\")\n",
    "plt.tight_layout()"
   ]
  },
  {
   "cell_type": "code",
   "execution_count": null,
   "metadata": {},
   "outputs": [],
   "source": [
    "# Look at the spread of the normalised data - scatter plot\n",
    "# chart = sns.boxplot(x = 'Cat', y ='BSUoS Price (£/MWh Hour)', palette = m_hueband, data = df_TS)\n",
    "# Think this will requre a melt first?"
   ]
  },
  {
   "cell_type": "code",
   "execution_count": null,
   "metadata": {},
   "outputs": [],
   "source": [
    "#df_data_p[ls_Col_Val + ls_Col_Out].describe()"
   ]
  },
  {
   "cell_type": "code",
   "execution_count": null,
   "metadata": {},
   "outputs": [],
   "source": [
    "# Melt the values and output\n",
    "df_data_pV_L = pd.melt(df_data_p[ls_Col_Val + ls_Col_Out],id_vars=ls_Col_Out, var_name='Field', value_name='Val')\n",
    "sns.catplot(x = \"Val\", y = \"Field\", hue = \"Loan_Status\", kind = \"violin\", data = df_data_pV_L)"
   ]
  },
  {
   "cell_type": "code",
   "execution_count": null,
   "metadata": {},
   "outputs": [],
   "source": [
    "sns.pairplot(df_data_p[ls_Col_Val + ls_Col_Out], diag_kind = 'hist', hue = ls_Col_Out[0])"
   ]
  },
  {
   "cell_type": "code",
   "execution_count": null,
   "metadata": {},
   "outputs": [],
   "source": [
    "df_corr = df_data_p.corr()\n",
    "df_corr_p = df_data[ls_Col_Val + ls_Col_Out].corr()\n",
    "matrix = np.triu(df_corr)"
   ]
  },
  {
   "cell_type": "code",
   "execution_count": null,
   "metadata": {},
   "outputs": [],
   "source": [
    "plt.figure()\n",
    "chart = sns.heatmap(df_corr, annot=False,yticklabels=False,mask = matrix,vmin=-.5,vmax=.5,center=0,cmap=\"RdBu\")\n",
    "chart.set_xticklabels(chart.get_xticklabels(), rotation=30, horizontalalignment='right')\n",
    "plt.tight_layout()\n",
    "plt.show()"
   ]
  },
  {
   "cell_type": "code",
   "execution_count": null,
   "metadata": {},
   "outputs": [],
   "source": [
    "# Main Summary of the Data Considering \n",
    "# ... Fraction of Null Values\n",
    "# ... Ratio of Accepted to Refused Customers\n",
    "# ... (Raw Singular) Correlation of the Output to Field\n",
    "# ... The Mean of Data for Approved Clients\n",
    "# ... The Mean and Standard Deviation\n",
    "\n",
    "df_data_p_s = pd.concat([df_data_nl.isnull().sum()/len(df_data_nl),\n",
    "           df_data_p_m['Ratio'],\n",
    "           df_corr['Loan_Status'].T,\n",
    "           df_data_p_m[1.0],\n",
    "           df_data_p.mean(),\n",
    "           df_data_p.std()], axis = 1,sort = True)\n",
    "\n",
    "df_data_p_s.columns = ['null','ratio','out cor','data_frac','mean','std']\n",
    "\n",
    "df_data_p_s"
   ]
  },
  {
   "cell_type": "code",
   "execution_count": null,
   "metadata": {},
   "outputs": [],
   "source": [
    "# -------------------------------------------------------------------------------------------------------------------------\n",
    "# End of Script\n",
    "# -------------------------------------------------------------------------------------------------------------------------"
   ]
  }
 ],
 "metadata": {
  "kernelspec": {
   "display_name": "Python 3",
   "language": "python",
   "name": "python3"
  },
  "language_info": {
   "codemirror_mode": {
    "name": "ipython",
    "version": 3
   },
   "file_extension": ".py",
   "mimetype": "text/x-python",
   "name": "python",
   "nbconvert_exporter": "python",
   "pygments_lexer": "ipython3",
   "version": "3.7.6"
  }
 },
 "nbformat": 4,
 "nbformat_minor": 2
}
